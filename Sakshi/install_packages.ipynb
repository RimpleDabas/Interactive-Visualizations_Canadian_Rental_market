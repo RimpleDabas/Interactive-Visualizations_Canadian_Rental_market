{
 "cells": [
  {
   "cell_type": "code",
   "execution_count": 1,
   "id": "785df589",
   "metadata": {},
   "outputs": [
    {
     "name": "stdout",
     "output_type": "stream",
     "text": [
      "Requirement already satisfied: flask in c:\\users\\8saks\\anaconda3\\lib\\site-packages (2.2.2)\n",
      "Requirement already satisfied: pymongo in c:\\users\\8saks\\anaconda3\\lib\\site-packages (4.3.3)\n",
      "Requirement already satisfied: itsdangerous>=2.0 in c:\\users\\8saks\\anaconda3\\lib\\site-packages (from flask) (2.0.1)\n",
      "Requirement already satisfied: Werkzeug>=2.2.2 in c:\\users\\8saks\\anaconda3\\lib\\site-packages (from flask) (2.2.2)\n",
      "Requirement already satisfied: click>=8.0 in c:\\users\\8saks\\anaconda3\\lib\\site-packages (from flask) (8.0.4)\n",
      "Requirement already satisfied: Jinja2>=3.0 in c:\\users\\8saks\\anaconda3\\lib\\site-packages (from flask) (3.1.2)\n",
      "Requirement already satisfied: dnspython<3.0.0,>=1.16.0 in c:\\users\\8saks\\anaconda3\\lib\\site-packages (from pymongo) (2.3.0)\n",
      "Requirement already satisfied: colorama in c:\\users\\8saks\\anaconda3\\lib\\site-packages (from click>=8.0->flask) (0.4.6)\n",
      "Requirement already satisfied: MarkupSafe>=2.0 in c:\\users\\8saks\\anaconda3\\lib\\site-packages (from Jinja2>=3.0->flask) (2.1.1)\n"
     ]
    }
   ],
   "source": [
    "!pip install flask pymongo"
   ]
  },
  {
   "cell_type": "code",
   "execution_count": null,
   "id": "03990615",
   "metadata": {},
   "outputs": [],
   "source": []
  }
 ],
 "metadata": {
  "kernelspec": {
   "display_name": "Python 3 (ipykernel)",
   "language": "python",
   "name": "python3"
  },
  "language_info": {
   "codemirror_mode": {
    "name": "ipython",
    "version": 3
   },
   "file_extension": ".py",
   "mimetype": "text/x-python",
   "name": "python",
   "nbconvert_exporter": "python",
   "pygments_lexer": "ipython3",
   "version": "3.10.9"
  }
 },
 "nbformat": 4,
 "nbformat_minor": 5
}
